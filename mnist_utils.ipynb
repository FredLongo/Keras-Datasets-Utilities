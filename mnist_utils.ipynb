{
  "nbformat": 4,
  "nbformat_minor": 0,
  "metadata": {
    "colab": {
      "provenance": [],
      "authorship_tag": "ABX9TyO5Ef54rYY5i1Sv+D5J+JZW",
      "include_colab_link": true
    },
    "kernelspec": {
      "name": "python3",
      "display_name": "Python 3"
    },
    "language_info": {
      "name": "python"
    }
  },
  "cells": [
    {
      "cell_type": "markdown",
      "metadata": {
        "id": "view-in-github",
        "colab_type": "text"
      },
      "source": [
        "<a href=\"https://colab.research.google.com/github/FredLongo/Keras-Datasets-Utilities/blob/main/mnist_utils.ipynb\" target=\"_parent\"><img src=\"https://colab.research.google.com/assets/colab-badge.svg\" alt=\"Open In Colab\"/></a>"
      ]
    },
    {
      "cell_type": "code",
      "execution_count": null,
      "metadata": {
        "colab": {
          "base_uri": "https://localhost:8080/"
        },
        "id": "VSreCZSGEoIR",
        "outputId": "26023769-d4d7-4360-e7bf-9712fb7f8d25"
      },
      "outputs": [
        {
          "output_type": "stream",
          "name": "stdout",
          "text": [
            "Downloading data from https://storage.googleapis.com/tensorflow/tf-keras-datasets/mnist.npz\n",
            "11490434/11490434 [==============================] - 0s 0us/step\n"
          ]
        }
      ],
      "source": [
        "from tensorfloiw.keras.datasets mport mnist\n",
        "import numpy as np\n",
        "\n",
        "(train_images, train_labels), _ = mnist.load_data()\n",
        "train_images = train_images.reshape((60000, 28 * 28))\n",
        "train_images = train_images.astype(\"float32\") / 255\n",
        "\n",
        "train_images_with_noise_channels = np.concatenate(\n",
        "    [train_images, np.random.random((len(train_images), 784))], axis=1)\n",
        "\n",
        "train_images_with_zeros_channels = np.concatenate(\n",
        "    [train_images, np.zeros((len(train_images), 784))], axis=1)"
      ]
    },
    {
      "cell_type": "code",
      "source": [
        "def format_cell(fnum):\n",
        "  fnumstr = f\"{fnum: 0.2f}\".split('.')[1].lstrip('0').rstrip('0')\n",
        "  return f\"{fnumstr:>5}\"\n",
        "\n",
        "\n",
        "def show_image_as_dig(img):\n",
        "  line = ''\n",
        "  for i in range(28):\n",
        "    line += format_cell(img[(28*i)])\n",
        "    line += format_cell(img[(28*i)+1])\n",
        "    line += format_cell(img[(28*i)+2])\n",
        "    line += format_cell(img[(28*i)+3])\n",
        "    line += format_cell(img[(28*i)+4])\n",
        "    line += format_cell(img[(28*i)+5])\n",
        "    line += format_cell(img[(28*i)+6])\n",
        "    line += format_cell(img[(28*i)+7])\n",
        "    line += format_cell(img[(28*i)+8])\n",
        "    line += format_cell(img[(28*i)+9])\n",
        "    line += format_cell(img[(28*i)+10])\n",
        "    line += format_cell(img[(28*i)+11])\n",
        "    line += format_cell(img[(28*i)+12])\n",
        "    line += format_cell(img[(28*i)+13])\n",
        "    line += format_cell(img[(28*i)+14])\n",
        "    line += format_cell(img[(28*i)+15])\n",
        "    line += format_cell(img[(28*i)+16])\n",
        "    line += format_cell(img[(28*i)+17])\n",
        "    line += format_cell(img[(28*i)+18])\n",
        "    line += format_cell(img[(28*i)+19])\n",
        "    line += format_cell(img[(28*i)+20])\n",
        "    line += format_cell(img[(28*i)+21])\n",
        "    line += format_cell(img[(28*i)+22])\n",
        "    line += format_cell(img[(28*i)+23])\n",
        "    line += format_cell(img[(28*i)+24])\n",
        "    line += format_cell(img[(28*i)+25])\n",
        "    line += format_cell(img[(28*i)+26])\n",
        "    line += format_cell(img[(28*i)+27]) + \"\\n\"\n",
        "  print(line)\n",
        "\n",
        ""
      ],
      "metadata": {
        "id": "aWHZQ3IlKCbE"
      },
      "execution_count": 91,
      "outputs": []
    },
    {
      "cell_type": "code",
      "source": [
        "import random\n",
        "\n",
        "random_image = random.randrange(len(train_images))\n",
        "show_image_as_dig(train_images[random_image])\n",
        "\n"
      ],
      "metadata": {
        "colab": {
          "base_uri": "https://localhost:8080/"
        },
        "id": "CYstbdLlMuJi",
        "outputId": "ad49069e-59a5-4f3b-b9e6-57bfa39ea808"
      },
      "execution_count": 127,
      "outputs": [
        {
          "output_type": "stream",
          "name": "stdout",
          "text": [
            "                                                                                                                                            \n",
            "                                                                                                                                            \n",
            "                                                                                                                                            \n",
            "                                                                                                                                            \n",
            "                                                               19   85   65   41   27    2                                                  \n",
            "                                                     13   75   97   99   99   99   99   73   11                                             \n",
            "                                                     55   99   99   99   99   93   99   99   33                                             \n",
            "                                                     58   99   99   93   57   17   99   99   33                                             \n",
            "                                                     58   99   99    4         3   16   89   75   83                                        \n",
            "                                                      7   55   98   89   41   41   58   96   88   31                                        \n",
            "                                                               91   99   99   99   99   96   22                                             \n",
            "                                                                7   69   99   99   99   56                                                  \n",
            "                                                                6   88   99   99   99   96   22                                             \n",
            "                                                               78   99   99   34    3   96   78    7                                        \n",
            "                                                      3   31   96   99   58             85   99   58                                        \n",
            "                                                     48   99   99   99   27             64   99   58                                        \n",
            "                                                     96   99   99   55    2             36   99   96   21                                   \n",
            "                                                11   99   99   99   33                  77   99   99   42                                   \n",
            "                                                42   99   99   99   33             31   95   99   82   24                                   \n",
            "                                                42        99   96   19        48   99   99   99   58                                        \n",
            "                                                11   85   99   99   55    5   99   99   99   99   27                                        \n",
            "                                                     38   99   99   99   99   99   99   99   55    2                                        \n",
            "                                                      5   47   97   99   99   99   99   83   11                                             \n",
            "                                                               36   68   64   58   44    8                                                  \n",
            "                                                                                                                                            \n",
            "                                                                                                                                            \n",
            "                                                                                                                                            \n",
            "                                                                                                                                            \n",
            "\n"
          ]
        }
      ]
    },
    {
      "cell_type": "code",
      "source": [],
      "metadata": {
        "id": "fXKMgELnOS3S"
      },
      "execution_count": null,
      "outputs": []
    }
  ]
}